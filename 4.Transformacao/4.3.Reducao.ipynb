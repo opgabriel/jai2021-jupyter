{
 "cells": [
  {
   "cell_type": "markdown",
   "metadata": {},
   "source": [
    "# Até agora...\n",
    "---\n",
    "\n",
    "O objetivo deste curso é **apresentar o Jupyter com reprodutibilidade para a realização de projetos em Ciência de Dados**. Utilizando dessa ferramenta, estamos passando pelas principais etapas de um projeto de Ciência de Dados, e até agora vimos:\n",
    "\n",
    "- [Jupyter Básico](../2.Basico/2.1.Estrutura.Geral.ipynb)\n",
    "- [Preparação de Dados para Ciência](../3.Preparacao/3.1.Importacao.Dados.ipynb)\n",
    "- [Integração, Transformação, Redução](../4.Transformacao/4.1.Integracao.ipynb)\n",
    "\n",
    "Se você ainda está com dúvida em alguma dessas etapas e/ou algum conceito ainda não está muito claro, por favor não deixe de revisitar esses notebooks e, se necessário, consulte o [texto do capítulo](https://sol.sbc.org.br/livros/index.php/sbc/catalog/view/67/292/544-1)."
   ]
  },
  {
   "cell_type": "code",
   "execution_count": null,
   "metadata": {},
   "outputs": [],
   "source": [
    "# Importando o pacote necessário\n",
    "import pandas as pd\n",
    "import numpy as np\n",
    "import seaborn as sns\n",
    "import matplotlib.pyplot as plt\n",
    "\n",
    "from sklearn.preprocessing import StandardScaler\n",
    "from sklearn.decomposition import PCA"
   ]
  },
  {
   "cell_type": "markdown",
   "metadata": {},
   "source": [
    "\n",
    "# Redução de Dados\n",
    "---\n",
    "\n",
    "Para finalizar a seção de *Preparação de dados*, nós vamos explorar a <ins>**Redução de dados**</ins>, uma etapa fundamental para lidar com grandes volumes de dados. De fato, gerenciar e processar dados requer tempo, esforço e recursos quando estamos lidando com alta dimensionalidade. \n",
    "\n",
    "Para enfrentar tais desafios, técnicas de <ins>**Redução de dados**</ins> são aplicadas. No entanto, embora sejam **essenciais**, essas técnicas geralmente são **complexas**, pois exigem amplo conhecimento para a escolha adequada de qual técnica utilizar. \n",
    "\n",
    "Assim, para simplificar, essa etapa irá apresentar apenas uma técnica muito utilizada de *Redução de dimensionalidade*."
   ]
  },
  {
   "cell_type": "markdown",
   "metadata": {},
   "source": [
    "## Análise de Componentes Principais (PCA)\n",
    "\n",
    "O PCA, ou Análise de Componentes Principais, é um dos métodos mais simples e, de longe, o mais comum para a *Redução da dimensionalidade*. \n",
    "\n",
    "Existem diversos motivos para aplicar a redução a partir do PCA. Mas, uma razão bem comum é quando coletamos muitos dados e não sabemos por onde começar nossas análises. Assim, ao aplicar o PCA podemos reduzi-los em poucas dimensões e, em seguida, plotá-los e estudar possíveis padrões. \n",
    "\n",
    "> **Como ele funciona?** 🤔\n",
    "\n",
    "Considere a tabela `Tracks` que contém informações sobre os *hits* do Spotify dos últimos anos. Nesta tabela, nós temos extamente 14 características musicais. Ou seja, temos um conjunto de dados de **14 dimensões**. Certo?\n",
    "\n",
    "Imagine agora que você está preocupado que não haja diferença em qualquer uma dessas características que nos ajude a classificar músicas entre *Solo* e *Colaborações*. Portanto, precisamos investigar mais a fundo todas essas características.\n",
    "\n",
    "> **Mas como você plota dados de 14 dimensões?** 🤔\n",
    "\n",
    "É exatamente aí que o PCA entra para salvar o dia! 🙌\n",
    "\n",
    "Em resumo, o método irá \"espremer\" essas 14 dimensões em, por exemplo, apenas **2** dimensões!!\n",
    "\n",
    "Ou seja, enquanto antes nós tínhamos cada música associada a 14 características diferentes; agora, elas terão apenas 2 variáveis associadas a elas. \n",
    "\n",
    "Assim, podemos plotar esses dois números em um gráfico de dispersão, permitindo analisar se há alguma diferença entre as músicas *Solo* e *Colaborações*."
   ]
  },
  {
   "cell_type": "markdown",
   "metadata": {},
   "source": [
    "### EXEMPLO\n",
    "\n",
    "Especificamente, o PCA é um algoritmo não supervisionado que busca encontrar um meio de condensar a informação dos atributos originais do conjunto de dados em um conjunto menor de variáveis estatísticas (**componentes principais**) com uma perda mínima de informação. \n",
    "\n",
    "O número de componentes principais se torna o número de variáveis consideradas na análise, mas geralmente as primeiras componentes são as mais importantes já que explicam a maior parte da variação total dos dados.\n",
    "\n",
    "Para entender melhor como o PCA funciona, vamos utilizar o seguinte exemplo:\n",
    "\n",
    "#### 1. Criar o *DataFrame*\n",
    "\n",
    "Para exemplificar, nós vamos utilizar as características acústicas da tabela `Tracks` e verificar se tais características podem ser úteis para classificar as músicas de acordo com o tipo delas (i.e., se são músicas *Solo* ou *Colaborações*)."
   ]
  },
  {
   "cell_type": "code",
   "execution_count": null,
   "metadata": {},
   "outputs": [],
   "source": [
    "cols = [\n",
    "    'duration_ms', 'key', 'mode', 'time_signature', 'acousticness',\n",
    "    'danceability', 'energy', 'instrumentalness', 'liveness', 'loudness',\n",
    "    'speechiness', 'valence', 'tempo', 'song_type'\n",
    "]\n",
    "\n",
    "# Selecionando algumas colunas da tabela Tracks\n",
    "data = pd.read_table('../dataset/spotify_hits_dataset_complete.tsv', encoding='utf-8', usecols=cols)\n",
    "data.head()"
   ]
  },
  {
   "cell_type": "code",
   "execution_count": null,
   "metadata": {},
   "outputs": [],
   "source": [
    "print(data.shape) # número total de observações e atributos"
   ]
  },
  {
   "cell_type": "markdown",
   "metadata": {},
   "source": [
    "#### 2. Pré-processamento dos dados\n",
    "\n",
    "Com o conjunto de dados criado, realizamos um pré-processamento dos dados:\n",
    "\n",
    "1. Separamos os dados em preditores (X) e variável *target* (y)"
   ]
  },
  {
   "cell_type": "code",
   "execution_count": null,
   "metadata": {},
   "outputs": [],
   "source": [
    "# Separando preditores (X) da variável target (y)\n",
    "y = data.song_type # variável target\n",
    "X = data.drop('song_type', axis=1) # conjunto de preditores"
   ]
  },
  {
   "cell_type": "markdown",
   "metadata": {},
   "source": [
    "2. Padronizamos os preditores usando o transformador `StandardScaler` do módulo `sklearn.preprocessing` da biblioteca `sklearn`"
   ]
  },
  {
   "cell_type": "code",
   "execution_count": null,
   "metadata": {
    "cell_style": "center",
    "hide_input": false
   },
   "outputs": [],
   "source": [
    "# Padronizando os dados de treino utilizando\n",
    "X = StandardScaler().fit_transform(X)"
   ]
  },
  {
   "cell_type": "markdown",
   "metadata": {},
   "source": [
    "⚠️ **OBSERVAÇÃO!** Note que nós padronizamos o conjunto de dados para que os atributos em maior escala não dominem os novos componentes principais. "
   ]
  },
  {
   "cell_type": "markdown",
   "metadata": {},
   "source": [
    "#### 3. Aplicamos o algoritmo PCA\n",
    "\n",
    "Agora, podemos aplicar o algoritmo PCA. \n",
    "\n",
    "Para isso, iremos utilizar a biblioteca *sklearn* para importar o módulo `sklearn.decomposition` e a classe `PCA` para extrair os dois componentes principais `(n_components = 2)` do nosso conjunto de dados:"
   ]
  },
  {
   "cell_type": "code",
   "execution_count": null,
   "metadata": {},
   "outputs": [],
   "source": [
    "# Calculando os dois componentes principais\n",
    "pca_resultado = PCA(n_components=2)\n",
    "componentes = pca_resultado.fit_transform(X) # extraindo os dois componentes\n",
    "\n",
    "df_pcs = pd.DataFrame(componentes, columns=['PC1', 'PC2',])\n",
    "df_pcs.head()"
   ]
  },
  {
   "cell_type": "markdown",
   "metadata": {},
   "source": [
    "O *DataFrame* resultante apresenta os valores dos dois componentes principais para todas as 1284 amostras. "
   ]
  },
  {
   "cell_type": "markdown",
   "metadata": {},
   "source": [
    "#### 4. Visualizar as duas dimensões\n",
    "\n",
    "Com a redução de dados realizada, agora podemos usar um gráfico de dispersão para analisar se há alguma diferença entre as músicas *Solo* e *Colaborações*. Aqui, usaremos as bibliotecas `seaborn` e `matplotlib` que serão abordadas com mais detalhes na seção de **Visualização de dados**. "
   ]
  },
  {
   "cell_type": "code",
   "execution_count": null,
   "metadata": {},
   "outputs": [],
   "source": [
    "df_pcs['song_type'] = data['song_type'] # adicionando a coluna do tipo da música\n",
    "\n",
    "# Visualizando os dois componentes principais resultantes \n",
    "sns.lmplot(x=\"PC1\", y=\"PC2\", data=df_pcs, fit_reg=False, hue='song_type', legend=False)\n",
    "plt.legend(loc='lower right')\n",
    "plt.show()"
   ]
  },
  {
   "cell_type": "markdown",
   "metadata": {},
   "source": [
    "Através dessa análise visual, podemos ver que, aparentemente, não há diferença significativa entre as músicas *Solo* e *Colaborações* em relação às suas características acústicas. Isso, porque os dois grupos demonstram comportamentos bem similares."
   ]
  },
  {
   "cell_type": "markdown",
   "metadata": {},
   "source": [
    "#### 5. Variância explicada\n",
    "\n",
    "Após a extração dos componentes principais, podemos verificar a quantidade de informações ou a variação que cada componente principal mantém após projetar os dados em um subespaço de dimensão inferior. Para isso, utilizamos a propriedade `explained_variance_ratio`:"
   ]
  },
  {
   "cell_type": "code",
   "execution_count": null,
   "metadata": {},
   "outputs": [],
   "source": [
    "print('Variação explicada por componentes principais: {}'.format(\n",
    "    pca_resultado.explained_variance_ratio_))"
   ]
  },
  {
   "cell_type": "markdown",
   "metadata": {},
   "source": [
    "Como resultado, podemos observar que o primeiro componente principal detém 20,5% das informações, enquanto o segundo apenas 10,8% das informações. Juntos, os dois componentes contêm 30,85% das informações.\n",
    "\n",
    "Ou seja, ao reduzir a dimensionalidade do conjunto de dados para duas dimensões, 69,15% das informações originais foram perdidas. Uma solução para aumentar as informações seria aumentar o número de dimensões (i.e., componentes principais) ao aplicar o PCA.\n",
    "\n",
    "Vamos testar com 10 dimensões 👀"
   ]
  },
  {
   "cell_type": "code",
   "execution_count": null,
   "metadata": {},
   "outputs": [],
   "source": [
    "# Calculando os dois componentes principais\n",
    "pca_resultado = PCA(n_components=10)\n",
    "componentes = pca_resultado.fit_transform(X) # extraindo os dois componentes\n",
    "\n",
    "print(f'Variação explicada por componentes principais: {round(sum(pca_resultado.explained_variance_ratio_)*100,1)}%')"
   ]
  },
  {
   "cell_type": "markdown",
   "metadata": {},
   "source": [
    "Assim, aumentando o número de dimensões, percebemos que as informações aumentam consideravelmente."
   ]
  },
  {
   "cell_type": "markdown",
   "metadata": {},
   "source": [
    "## Conclusão\n",
    "\n",
    "Este notebook apresentou como reduzir a dimensionalidade dos dados utilizando o algoritmo PCA.\n",
    "\n",
    "🔎 **Se interessou?** Para mais técnicas de redução de dados, você pode dar uma olhada na biblioteca `sklearn`: [Unsupervised dimensionality reduction](https://scikit-learn.org/stable/modules/unsupervised_reduction.html)\n",
    "\n",
    "---\n",
    "\n",
    "Este foi o fim desta parte do tutorial sobre prepação de dados. A próxima parte ([5.Ciencia.de.Dados](../5.Ciencia.de.Dados/5.1.Ciencia.Dados.Basica.ipynb)) apresentará como fazer analise exploratória dos dados como parte da ciência de dados."
   ]
  }
 ],
 "metadata": {
  "julynter-results": {
   "filteredId": [],
   "filteredIndividual": [],
   "filteredRestart": [],
   "filteredType": [],
   "hash": "42e8b7591aa2173a7b72b5ae2fb6718ece06becc",
   "visible": []
  },
  "kernelspec": {
   "display_name": "Python 3",
   "language": "python",
   "name": "python3"
  },
  "language_info": {
   "codemirror_mode": {
    "name": "ipython",
    "version": 3
   },
   "file_extension": ".py",
   "mimetype": "text/x-python",
   "name": "python",
   "nbconvert_exporter": "python",
   "pygments_lexer": "ipython3",
   "version": "3.8.2"
  },
  "latex_envs": {
   "LaTeX_envs_menu_present": true,
   "autoclose": true,
   "autocomplete": true,
   "bibliofile": "biblio.bib",
   "cite_by": "apalike",
   "current_citInitial": 1,
   "eqLabelWithNumbers": true,
   "eqNumInitial": 1,
   "hotkeys": {
    "equation": "Ctrl-E",
    "itemize": "Ctrl-I"
   },
   "labels_anchors": false,
   "latex_user_defs": false,
   "report_style_numbering": false,
   "user_envs_cfg": false
  },
  "varInspector": {
   "cols": {
    "lenName": 16,
    "lenType": 16,
    "lenVar": 40
   },
   "kernels_config": {
    "python": {
     "delete_cmd_postfix": "",
     "delete_cmd_prefix": "del ",
     "library": "var_list.py",
     "varRefreshCmd": "print(var_dic_list())"
    },
    "r": {
     "delete_cmd_postfix": ") ",
     "delete_cmd_prefix": "rm(",
     "library": "var_list.r",
     "varRefreshCmd": "cat(var_dic_list()) "
    }
   },
   "types_to_exclude": [
    "module",
    "function",
    "builtin_function_or_method",
    "instance",
    "_Feature"
   ],
   "window_display": false
  }
 },
 "nbformat": 4,
 "nbformat_minor": 4
}
